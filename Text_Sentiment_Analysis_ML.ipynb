{
  "nbformat": 4,
  "nbformat_minor": 0,
  "metadata": {
    "colab": {
      "provenance": []
    },
    "kernelspec": {
      "name": "python3",
      "display_name": "Python 3"
    },
    "language_info": {
      "name": "python"
    }
  },
  "cells": [
    {
      "cell_type": "markdown",
      "source": [
        "# Step 1 — Load & Inspect"
      ],
      "metadata": {
        "id": "zuPqzZp3yBMS"
      }
    },
    {
      "cell_type": "code",
      "execution_count": 1,
      "metadata": {
        "id": "B0qk36m7x07o"
      },
      "outputs": [],
      "source": [
        "!pip install -q kagglehub[pandas-datasets]"
      ]
    },
    {
      "cell_type": "code",
      "source": [
        "import kagglehub\n",
        "import pandas as pd\n",
        "\n",
        "# File path inside the dataset\n",
        "file_path = \"training.1600000.processed.noemoticon.csv\"\n",
        "\n",
        "# Load dataset (no header in file, so we add manually)\n",
        "df = kagglehub.load_dataset(\n",
        "    kagglehub.KaggleDatasetAdapter.PANDAS,\n",
        "    \"abhi8923shriv/sentiment-analysis-dataset\",\n",
        "    file_path,\n",
        "    pandas_kwargs={\"header\": None, \"encoding\": \"latin-1\"}  # latin-1 avoids encoding errors\n",
        ")\n",
        "\n",
        "# Assign column names (6 columns as described)\n",
        "df.columns = [\"polarity\",\"tweet_id\",\"date\",\"query\",\"user\",\"text\"]\n",
        "\n",
        "# Show basic info\n",
        "print(\"Shape of dataset:\", df.shape)\n",
        "print(\"\\nPolarity distribution:\\n\", df[\"polarity\"].value_counts())\n",
        "print(\"\\nFirst 3 rows:\\n\", df.head(3))"
      ],
      "metadata": {
        "colab": {
          "base_uri": "https://localhost:8080/"
        },
        "id": "R17xJVW7yMnE",
        "outputId": "9445fb1b-ba36-47be-a2d9-75ba1664fba7"
      },
      "execution_count": 2,
      "outputs": [
        {
          "output_type": "stream",
          "name": "stderr",
          "text": [
            "/tmp/ipython-input-3112979762.py:8: DeprecationWarning: load_dataset is deprecated and will be removed in a future version.\n",
            "  df = kagglehub.load_dataset(\n"
          ]
        },
        {
          "output_type": "stream",
          "name": "stdout",
          "text": [
            "Shape of dataset: (1048573, 6)\n",
            "\n",
            "Polarity distribution:\n",
            " polarity\n",
            "0                     668925\n",
            "4                     248576\n",
            "0                     131071\n",
            "polarity of tweet          1\n",
            "Name: count, dtype: int64\n",
            "\n",
            "First 3 rows:\n",
            "              polarity         tweet_id                          date  \\\n",
            "0  polarity of tweet   id of the tweet             date of the tweet   \n",
            "1                   0       1467810672  Mon Apr 06 22:19:49 PDT 2009   \n",
            "2                   0       1467810917  Mon Apr 06 22:19:53 PDT 2009   \n",
            "\n",
            "      query           user                                               text  \n",
            "0     query           user                                 text of the tweet   \n",
            "1  NO_QUERY  scotthamilton  is upset that he can't update his Facebook by ...  \n",
            "2  NO_QUERY       mattycus  @Kenichan I dived many times for the ball. Man...  \n"
          ]
        },
        {
          "output_type": "stream",
          "name": "stderr",
          "text": [
            "/usr/local/lib/python3.12/dist-packages/kagglehub/pandas_datasets.py:91: DtypeWarning: Columns (0,1) have mixed types. Specify dtype option on import or set low_memory=False.\n",
            "  result = read_function(\n"
          ]
        }
      ]
    },
    {
      "cell_type": "markdown",
      "source": [
        "# Step 2 — Cleaning"
      ],
      "metadata": {
        "id": "9oN_n0j9y6mQ"
      }
    },
    {
      "cell_type": "code",
      "source": [
        "# Drop the first row (which contains column description, not data)\n",
        "df = df.drop(index=0).reset_index(drop=True)\n",
        "\n",
        "# Convert polarity column to integer\n",
        "df[\"polarity\"] = df[\"polarity\"].astype(int)\n",
        "\n",
        "# Keep only polarity + text columns\n",
        "df = df[[\"polarity\", \"text\"]]\n",
        "\n",
        "# Drop missing or empty texts\n",
        "df = df.dropna(subset=[\"text\"])\n",
        "df = df[df[\"text\"].str.strip() != \"\"]\n",
        "\n",
        "# Drop duplicate texts\n",
        "df = df.drop_duplicates(subset=[\"text\"]).reset_index(drop=True)\n",
        "\n",
        "print(\"Cleaned shape:\", df.shape)\n",
        "print(\"\\nPolarity distribution:\\n\", df[\"polarity\"].value_counts())\n",
        "print(\"\\nSample rows:\\n\", df.head(3))\n"
      ],
      "metadata": {
        "colab": {
          "base_uri": "https://localhost:8080/"
        },
        "id": "SVNgiV5sy4BA",
        "outputId": "2f187d32-a956-425f-f761-e8e13a132e5b"
      },
      "execution_count": 3,
      "outputs": [
        {
          "output_type": "stream",
          "name": "stdout",
          "text": [
            "Cleaned shape: (1036132, 2)\n",
            "\n",
            "Polarity distribution:\n",
            " polarity\n",
            "0    790181\n",
            "4    245951\n",
            "Name: count, dtype: int64\n",
            "\n",
            "Sample rows:\n",
            "    polarity                                               text\n",
            "0         0  is upset that he can't update his Facebook by ...\n",
            "1         0  @Kenichan I dived many times for the ball. Man...\n",
            "2         0    my whole body feels itchy and like its on fire \n"
          ]
        }
      ]
    },
    {
      "cell_type": "markdown",
      "source": [
        "# Step 3 — Label Mapping"
      ],
      "metadata": {
        "id": "-L7BTj0wzbei"
      }
    },
    {
      "cell_type": "code",
      "source": [
        "\n",
        "id2label = {0: \"negative\", 4: \"positive\"}\n",
        "label2id = {v: k for k, v in id2label.items()}\n",
        "\n",
        "print(\"id2label mapping:\", id2label)\n",
        "print(\"label2id mapping:\", label2id)\n",
        "\n",
        "# Just to check random sample\n",
        "print(\"\\nSample mapped labels:\")\n",
        "print(df.sample(5, random_state=42))\n"
      ],
      "metadata": {
        "colab": {
          "base_uri": "https://localhost:8080/"
        },
        "id": "UUDg9bl2zcFu",
        "outputId": "c474d26e-fb03-474b-a8ae-a86eaecbe503"
      },
      "execution_count": 4,
      "outputs": [
        {
          "output_type": "stream",
          "name": "stdout",
          "text": [
            "id2label mapping: {0: 'negative', 4: 'positive'}\n",
            "label2id mapping: {'negative': 0, 'positive': 4}\n",
            "\n",
            "Sample mapped labels:\n",
            "        polarity                                               text\n",
            "134340         0  Don't want to wake-up. I will end up having a ...\n",
            "366588         0                               Death of Auto-Tune. \n",
            "19694          0             @Josh4Q I got massive shit congestion \n",
            "648096         0                @JackieNBB you can say that again. \n",
            "926676         4  @shurlybee Layhawke is amazing.Going to see he...\n"
          ]
        }
      ]
    },
    {
      "cell_type": "markdown",
      "source": [
        "# Step 4 — Balanced downsample for training performance\n"
      ],
      "metadata": {
        "id": "q5ZZa4PE1Qof"
      }
    },
    {
      "cell_type": "code",
      "source": [
        "import pandas as pd\n",
        "\n",
        "# Separate classes\n",
        "df_neg = df[df[\"polarity\"] == 0]\n",
        "df_pos = df[df[\"polarity\"] == 4]\n",
        "\n",
        "# Downsample to match smaller class (positive = 245,951)\n",
        "sample_size = len(df_pos)  # 245,951\n",
        "\n",
        "df_neg_sampled = df_neg.sample(n=sample_size, random_state=42)\n",
        "df_balanced = pd.concat([df_neg_sampled, df_pos]).reset_index(drop=True)\n",
        "\n",
        "# Shuffle the dataset\n",
        "df_balanced = df_balanced.sample(frac=1, random_state=42).reset_index(drop=True)\n",
        "\n",
        "print(\"Balanced shape:\", df_balanced.shape)\n",
        "print(\"\\nPolarity distribution:\\n\", df_balanced[\"polarity\"].value_counts())\n",
        "print(\"\\nSample rows:\\n\", df_balanced.head(3))\n"
      ],
      "metadata": {
        "colab": {
          "base_uri": "https://localhost:8080/"
        },
        "id": "jX2WX1t11QcG",
        "outputId": "73f71cbc-50b3-4f72-c0e7-bcba48dbe675"
      },
      "execution_count": 5,
      "outputs": [
        {
          "output_type": "stream",
          "name": "stdout",
          "text": [
            "Balanced shape: (491902, 2)\n",
            "\n",
            "Polarity distribution:\n",
            " polarity\n",
            "4    245951\n",
            "0    245951\n",
            "Name: count, dtype: int64\n",
            "\n",
            "Sample rows:\n",
            "    polarity                                               text\n",
            "0         4  Had a good birthday  thanks dan and liv you gu...\n",
            "1         4                        @parkpr 36 years young.... \n",
            "2         4  Janis Joplin - Leaving on a Jet Plane ~ I'm le...\n"
          ]
        }
      ]
    },
    {
      "cell_type": "markdown",
      "source": [
        "# Step 5 — Text Preprocessing"
      ],
      "metadata": {
        "id": "L4CsngKa1muk"
      }
    },
    {
      "cell_type": "code",
      "source": [
        "import re\n",
        "\n",
        "def clean_text(text):\n",
        "    \"\"\"\n",
        "    Basic tweet cleaning:\n",
        "    - Lowercase\n",
        "    - Remove URLs\n",
        "    - Remove @user mentions\n",
        "    - Remove HTML entities\n",
        "    - Convert hashtags #word -> word\n",
        "    - Collapse multiple spaces\n",
        "    \"\"\"\n",
        "    text = text.lower()\n",
        "    text = re.sub(r\"http\\S+|www\\S+\", \"\", text)      # Remove URLs\n",
        "    text = re.sub(r\"@\\w+\", \"\", text)                # Remove mentions\n",
        "    text = re.sub(r\"&\\w+;\", \"\", text)               # Remove HTML entities\n",
        "    text = re.sub(r\"#(\\w+)\", r\"\\1\", text)          # Remove # but keep the word\n",
        "    text = re.sub(r\"\\s+\", \" \", text).strip()       # Collapse spaces\n",
        "    return text\n",
        "\n",
        "# Apply cleaning\n",
        "df_balanced[\"text_clean\"] = df_balanced[\"text\"].apply(clean_text)\n",
        "\n",
        "# Quick check\n",
        "print(\"Sample cleaned texts:\")\n",
        "print(df_balanced[[\"text\", \"text_clean\", \"polarity\"]].head(5))"
      ],
      "metadata": {
        "colab": {
          "base_uri": "https://localhost:8080/"
        },
        "id": "z-7_blgZ1nPS",
        "outputId": "a7e0f9bd-1fcb-4542-89d1-7fcafd283904"
      },
      "execution_count": 6,
      "outputs": [
        {
          "output_type": "stream",
          "name": "stdout",
          "text": [
            "Sample cleaned texts:\n",
            "                                                text  \\\n",
            "0  Had a good birthday  thanks dan and liv you gu...   \n",
            "1                        @parkpr 36 years young....    \n",
            "2  Janis Joplin - Leaving on a Jet Plane ~ I'm le...   \n",
            "3  going to volleyball later! whoooop go the flashh    \n",
            "4  trying to speak. lost my voice from this stupi...   \n",
            "\n",
            "                                          text_clean  polarity  \n",
            "0  had a good birthday thanks dan and liv you guy...         4  \n",
            "1                                 36 years young....         4  \n",
            "2  janis joplin - leaving on a jet plane ~ i'm le...         4  \n",
            "3   going to volleyball later! whoooop go the flashh         4  \n",
            "4  trying to speak. lost my voice from this stupi...         0  \n"
          ]
        }
      ]
    },
    {
      "cell_type": "markdown",
      "source": [
        "# Step 6 — Train/Test Split\n"
      ],
      "metadata": {
        "id": "ytWlDIDn18sG"
      }
    },
    {
      "cell_type": "code",
      "source": [
        "from sklearn.model_selection import train_test_split\n",
        "\n",
        "# Features and labels\n",
        "X = df_balanced[\"text_clean\"]\n",
        "y = df_balanced[\"polarity\"]\n",
        "\n",
        "# Stratified split\n",
        "X_train, X_test, y_train, y_test = train_test_split(\n",
        "    X, y, test_size=0.1, stratify=y, random_state=42\n",
        ")\n",
        "\n",
        "print(\"Training set shape:\", X_train.shape)\n",
        "print(\"Test set shape:\", X_test.shape)\n",
        "print(\"\\nTraining label distribution:\\n\", y_train.value_counts())\n",
        "print(\"\\nTest label distribution:\\n\", y_test.value_counts())"
      ],
      "metadata": {
        "colab": {
          "base_uri": "https://localhost:8080/"
        },
        "id": "evhBM8fO19P0",
        "outputId": "f3282f71-5614-48f1-e9ab-4a1969c731fa"
      },
      "execution_count": 7,
      "outputs": [
        {
          "output_type": "stream",
          "name": "stdout",
          "text": [
            "Training set shape: (442711,)\n",
            "Test set shape: (49191,)\n",
            "\n",
            "Training label distribution:\n",
            " polarity\n",
            "4    221356\n",
            "0    221355\n",
            "Name: count, dtype: int64\n",
            "\n",
            "Test label distribution:\n",
            " polarity\n",
            "0    24596\n",
            "4    24595\n",
            "Name: count, dtype: int64\n"
          ]
        }
      ]
    },
    {
      "cell_type": "markdown",
      "source": [
        "# Step 7 & 8 — TF-IDF Vectorization + Logistic Regression Training\n"
      ],
      "metadata": {
        "id": "77GwfYHK2ZMk"
      }
    },
    {
      "cell_type": "code",
      "source": [
        "from sklearn.feature_extraction.text import TfidfVectorizer\n",
        "from sklearn.linear_model import LogisticRegression\n",
        "from sklearn.pipeline import Pipeline\n",
        "\n",
        "# Build pipeline\n",
        "pipeline = Pipeline([\n",
        "    ('tfidf', TfidfVectorizer(\n",
        "        max_features=150_000,\n",
        "        ngram_range=(1,1),\n",
        "        min_df=5,\n",
        "        max_df=0.95,\n",
        "        sublinear_tf=True,\n",
        "        strip_accents='unicode'\n",
        "    )),\n",
        "    ('clf', LogisticRegression(\n",
        "        solver='saga',          # multinomial solver\n",
        "        multi_class='multinomial',\n",
        "        max_iter=1000,\n",
        "        class_weight='balanced', # handle slight class imbalance\n",
        "        n_jobs=-1\n",
        "    ))\n",
        "])\n",
        "\n",
        "# Train the model\n",
        "print(\"Training model, please wait...\")\n",
        "pipeline.fit(X_train, y_train)\n",
        "print(\"Training complete ✅\")"
      ],
      "metadata": {
        "colab": {
          "base_uri": "https://localhost:8080/"
        },
        "id": "9anZj5fO2aAY",
        "outputId": "f7ae8a91-4223-4335-e085-6eb23c43bf52"
      },
      "execution_count": 8,
      "outputs": [
        {
          "output_type": "stream",
          "name": "stdout",
          "text": [
            "Training model, please wait...\n"
          ]
        },
        {
          "output_type": "stream",
          "name": "stderr",
          "text": [
            "/usr/local/lib/python3.12/dist-packages/sklearn/linear_model/_logistic.py:1237: FutureWarning: 'multi_class' was deprecated in version 1.5 and will be removed in 1.7. From then on, binary problems will be fit as proper binary  logistic regression models (as if multi_class='ovr' were set). Leave it to its default value to avoid this warning.\n",
            "  warnings.warn(\n"
          ]
        },
        {
          "output_type": "stream",
          "name": "stdout",
          "text": [
            "Training complete ✅\n"
          ]
        }
      ]
    },
    {
      "cell_type": "markdown",
      "source": [
        "# Step 9 — Evaluation\n"
      ],
      "metadata": {
        "id": "PGu6qmND21Z0"
      }
    },
    {
      "cell_type": "code",
      "source": [
        "from sklearn.metrics import accuracy_score, classification_report, confusion_matrix\n",
        "import matplotlib.pyplot as plt\n",
        "import seaborn as sns\n",
        "\n",
        "# Predictions\n",
        "y_pred = pipeline.predict(X_test)\n",
        "\n",
        "# Accuracy\n",
        "acc = accuracy_score(y_test, y_pred)\n",
        "print(f\"Test Accuracy: {acc:.4f}\\n\")\n",
        "\n",
        "# Classification report\n",
        "print(\"Classification Report:\")\n",
        "print(classification_report(y_test, y_pred, target_names=[id2label[0], id2label[4]]))\n",
        "\n",
        "# Confusion matrix\n",
        "cm = confusion_matrix(y_test, y_pred)\n",
        "plt.figure(figsize=(5,4))\n",
        "sns.heatmap(cm, annot=True, fmt='d', cmap='Blues', xticklabels=[id2label[0], id2label[4]], yticklabels=[id2label[0], id2label[4]])\n",
        "plt.xlabel(\"Predicted\")\n",
        "plt.ylabel(\"Actual\")\n",
        "plt.title(\"Confusion Matrix\")\n",
        "plt.show()"
      ],
      "metadata": {
        "colab": {
          "base_uri": "https://localhost:8080/",
          "height": 618
        },
        "id": "USLoQijS216_",
        "outputId": "068d16ce-9378-4da0-8289-fdf4fdbc8cdc"
      },
      "execution_count": 9,
      "outputs": [
        {
          "output_type": "stream",
          "name": "stdout",
          "text": [
            "Test Accuracy: 0.7931\n",
            "\n",
            "Classification Report:\n",
            "              precision    recall  f1-score   support\n",
            "\n",
            "    negative       0.80      0.79      0.79     24596\n",
            "    positive       0.79      0.80      0.79     24595\n",
            "\n",
            "    accuracy                           0.79     49191\n",
            "   macro avg       0.79      0.79      0.79     49191\n",
            "weighted avg       0.79      0.79      0.79     49191\n",
            "\n"
          ]
        },
        {
          "output_type": "display_data",
          "data": {
            "text/plain": [
              "<Figure size 500x400 with 2 Axes>"
            ],
            "image/png": "[encoded data removed]"
          },
          "metadata": {}
        }
      ]
    },
    {
      "cell_type": "markdown",
      "source": [
        "# Sanity Check"
      ],
      "metadata": {
        "id": "ZXKIgxME3JMV"
      }
    },
    {
      "cell_type": "code",
      "source": [
        "# Quick inference test\n",
        "sample_texts = [\n",
        "    \"I love this product! It works amazingly well.\",\n",
        "    \"This is the worst experience ever.\",\n",
        "]\n",
        "\n",
        "probs = pipeline.predict_proba(sample_texts)\n",
        "preds = pipeline.predict(sample_texts)\n",
        "\n",
        "for text, pred, prob in zip(sample_texts, preds, probs):\n",
        "    label_name = id2label[pred]\n",
        "    confidence = max(prob)\n",
        "    print(f\"Text: {text}\\nPrediction: {label_name} (Confidence: {confidence:.2f})\\n\")\n"
      ],
      "metadata": {
        "colab": {
          "base_uri": "https://localhost:8080/"
        },
        "id": "DOMJ_2TJ3Lx-",
        "outputId": "57cde218-6863-4600-b8e4-03318fbf1eb5"
      },
      "execution_count": 10,
      "outputs": [
        {
          "output_type": "stream",
          "name": "stdout",
          "text": [
            "Text: I love this product! It works amazingly well.\n",
            "Prediction: positive (Confidence: 0.98)\n",
            "\n",
            "Text: This is the worst experience ever.\n",
            "Prediction: negative (Confidence: 0.85)\n",
            "\n"
          ]
        }
      ]
    },
    {
      "cell_type": "markdown",
      "source": [
        "# Saving the currently trained model with balanced dataset"
      ],
      "metadata": {
        "id": "nX9LDLBa34m9"
      }
    },
    {
      "cell_type": "code",
      "source": [
        "import joblib\n",
        "\n",
        "# Save the current pipeline\n",
        "joblib.dump(pipeline, \"sentiment_model_balanced.pkl\")\n",
        "print(\"Balanced subset model saved as sentiment_model_balanced.pkl ✅\")\n"
      ],
      "metadata": {
        "colab": {
          "base_uri": "https://localhost:8080/"
        },
        "id": "dZ0aRsqs3_kM",
        "outputId": "9892a93d-6a4c-44be-f461-821da0443606"
      },
      "execution_count": 11,
      "outputs": [
        {
          "output_type": "stream",
          "name": "stdout",
          "text": [
            "Balanced subset model saved as sentiment_model_balanced.pkl ✅\n"
          ]
        }
      ]
    },
    {
      "cell_type": "code",
      "source": [
        "import json\n",
        "\n",
        "# Save label mapping\n",
        "with open(\"id2label_balanced.json\", \"w\") as f:\n",
        "    json.dump(id2label, f)\n",
        "print(\"Label mapping saved as id2label_balanced.json ✅\")\n"
      ],
      "metadata": {
        "colab": {
          "base_uri": "https://localhost:8080/"
        },
        "id": "kMwm1TKR4CbE",
        "outputId": "069a1425-397b-49e3-e606-4aeca75049e0"
      },
      "execution_count": 12,
      "outputs": [
        {
          "output_type": "stream",
          "name": "stdout",
          "text": [
            "Label mapping saved as id2label_balanced.json ✅\n"
          ]
        }
      ]
    },
    {
      "cell_type": "code",
      "source": [
        "# Load back the pipeline to verify\n",
        "loaded_pipeline = joblib.load(\"sentiment_model_balanced.pkl\")\n",
        "print(\"Loaded model test prediction:\", loaded_pipeline.predict([\"I hate this!\"]))\n"
      ],
      "metadata": {
        "colab": {
          "base_uri": "https://localhost:8080/"
        },
        "id": "PQQrHF0V4E5l",
        "outputId": "d9b0e205-de6b-4ada-ea4c-bc1915a0ca4e"
      },
      "execution_count": 13,
      "outputs": [
        {
          "output_type": "stream",
          "name": "stdout",
          "text": [
            "Loaded model test prediction: [0]\n"
          ]
        }
      ]
    },
    {
      "cell_type": "markdown",
      "source": [
        "## Proceeding the Steps again to train Full dataset again (1.6M)"
      ],
      "metadata": {
        "id": "26_FCiMB6Ac-"
      }
    },
    {
      "cell_type": "markdown",
      "source": [
        "# Step 1 — Load full CSV\n"
      ],
      "metadata": {
        "id": "LyC3-x4f6Lbj"
      }
    },
    {
      "cell_type": "code",
      "source": [
        "# Install if not already\n",
        "!pip install -q kagglehub[pandas-datasets]\n",
        "\n",
        "import kagglehub\n",
        "import pandas as pd\n",
        "\n",
        "# File path inside the dataset\n",
        "file_path = \"training.1600000.processed.noemoticon.csv\"\n",
        "\n",
        "# Load the dataset from Kaggle\n",
        "df_full = kagglehub.load_dataset(\n",
        "    kagglehub.KaggleDatasetAdapter.PANDAS,\n",
        "    \"abhi8923shriv/sentiment-analysis-dataset\",\n",
        "    file_path,\n",
        "    pandas_kwargs={\"header\": None, \"encoding\": \"latin-1\"}  # to avoid encoding errors\n",
        ")\n",
        "\n",
        "# Assign column names\n",
        "df_full.columns = [\"polarity\",\"tweet_id\",\"date\",\"query\",\"user\",\"text\"]\n",
        "\n",
        "# Quick check\n",
        "print(\"Initial shape:\", df_full.shape)\n",
        "print(\"First 3 rows:\\n\", df_full.head(3))\n"
      ],
      "metadata": {
        "colab": {
          "base_uri": "https://localhost:8080/"
        },
        "id": "lAmb2NJN6M_I",
        "outputId": "a35ab97e-3d10-420f-9495-d92b6dc6ad8b"
      },
      "execution_count": 15,
      "outputs": [
        {
          "output_type": "stream",
          "name": "stderr",
          "text": [
            "/tmp/ipython-input-75041188.py:11: DeprecationWarning: load_dataset is deprecated and will be removed in a future version.\n",
            "  df_full = kagglehub.load_dataset(\n"
          ]
        },
        {
          "output_type": "stream",
          "name": "stdout",
          "text": [
            "Initial shape: (1048573, 6)\n",
            "First 3 rows:\n",
            "              polarity         tweet_id                          date  \\\n",
            "0  polarity of tweet   id of the tweet             date of the tweet   \n",
            "1                   0       1467810672  Mon Apr 06 22:19:49 PDT 2009   \n",
            "2                   0       1467810917  Mon Apr 06 22:19:53 PDT 2009   \n",
            "\n",
            "      query           user                                               text  \n",
            "0     query           user                                 text of the tweet   \n",
            "1  NO_QUERY  scotthamilton  is upset that he can't update his Facebook by ...  \n",
            "2  NO_QUERY       mattycus  @Kenichan I dived many times for the ball. Man...  \n"
          ]
        },
        {
          "output_type": "stream",
          "name": "stderr",
          "text": [
            "/usr/local/lib/python3.12/dist-packages/kagglehub/pandas_datasets.py:91: DtypeWarning: Columns (0,1) have mixed types. Specify dtype option on import or set low_memory=False.\n",
            "  result = read_function(\n"
          ]
        }
      ]
    },
    {
      "cell_type": "markdown",
      "source": [
        "# Step 2 — Clean dataset\n"
      ],
      "metadata": {
        "id": "OopH5aXL6pPy"
      }
    },
    {
      "cell_type": "code",
      "source": [
        "# Convert polarity to string first\n",
        "df_full[\"polarity\"] = df_full[\"polarity\"].astype(str)\n",
        "\n",
        "# Keep only numeric polarity rows\n",
        "df_full = df_full[df_full[\"polarity\"].str.replace(\"\\xa0\",\"\").str.isnumeric()]\n",
        "\n",
        "# Now convert to int\n",
        "df_full[\"polarity\"] = df_full[\"polarity\"].astype(int)\n",
        "\n",
        "# Keep only relevant columns\n",
        "df_full = df_full[[\"polarity\",\"text\"]]\n",
        "\n",
        "# Drop duplicates and NaNs\n",
        "df_full = df_full.drop_duplicates().dropna().reset_index(drop=True)\n",
        "\n",
        "# Check cleaned dataset\n",
        "print(\"Cleaned shape:\", df_full.shape)\n",
        "print(\"\\nPolarity distribution:\\n\", df_full[\"polarity\"].value_counts())\n",
        "print(\"\\nSample rows:\\n\", df_full.head(3))"
      ],
      "metadata": {
        "colab": {
          "base_uri": "https://localhost:8080/"
        },
        "id": "HiPx3m8v6pvn",
        "outputId": "7378eae9-bed9-408f-ab03-193c6781d422"
      },
      "execution_count": 18,
      "outputs": [
        {
          "output_type": "stream",
          "name": "stderr",
          "text": [
            "/tmp/ipython-input-540126181.py:8: SettingWithCopyWarning: \n",
            "A value is trying to be set on a copy of a slice from a DataFrame.\n",
            "Try using .loc[row_indexer,col_indexer] = value instead\n",
            "\n",
            "See the caveats in the documentation: https://pandas.pydata.org/pandas-docs/stable/user_guide/indexing.html#returning-a-view-versus-a-copy\n",
            "  df_full[\"polarity\"] = df_full[\"polarity\"].astype(int)\n"
          ]
        },
        {
          "output_type": "stream",
          "name": "stdout",
          "text": [
            "Cleaned shape: (1036908, 2)\n",
            "\n",
            "Polarity distribution:\n",
            " polarity\n",
            "0    790181\n",
            "4    246727\n",
            "Name: count, dtype: int64\n",
            "\n",
            "Sample rows:\n",
            "    polarity                                               text\n",
            "0         0  is upset that he can't update his Facebook by ...\n",
            "1         0  @Kenichan I dived many times for the ball. Man...\n",
            "2         0    my whole body feels itchy and like its on fire \n"
          ]
        }
      ]
    },
    {
      "cell_type": "markdown",
      "source": [
        "# Step 3 — Text Preprocessing\n"
      ],
      "metadata": {
        "id": "dA7wxPdf7D6x"
      }
    },
    {
      "cell_type": "code",
      "source": [
        "import re\n",
        "\n",
        "def clean_text(text):\n",
        "    text = str(text).lower()\n",
        "    text = re.sub(r\"http\\S+|www\\S+\", \"\", text)\n",
        "    text = re.sub(r\"@\\w+\", \"\", text)\n",
        "    text = re.sub(r\"&\\w+;\", \"\", text)\n",
        "    text = re.sub(r\"#(\\w+)\", r\"\\1\", text)\n",
        "    text = re.sub(r\"\\s+\", \" \", text).strip()\n",
        "    return text\n",
        "\n",
        "df_full[\"text_clean\"] = df_full[\"text\"].apply(clean_text)\n",
        "\n",
        "# Quick check\n",
        "print(\"Sample cleaned texts:\\n\", df_full[[\"text\",\"text_clean\",\"polarity\"]].head(5))\n"
      ],
      "metadata": {
        "colab": {
          "base_uri": "https://localhost:8080/"
        },
        "id": "BwnAg3539AMu",
        "outputId": "ecadab75-dd04-419f-a4d0-bdda2a948196"
      },
      "execution_count": 19,
      "outputs": [
        {
          "output_type": "stream",
          "name": "stdout",
          "text": [
            "Sample cleaned texts:\n",
            "                                                 text  \\\n",
            "0  is upset that he can't update his Facebook by ...   \n",
            "1  @Kenichan I dived many times for the ball. Man...   \n",
            "2    my whole body feels itchy and like its on fire    \n",
            "3  @nationwideclass no, it's not behaving at all....   \n",
            "4                      @Kwesidei not the whole crew    \n",
            "\n",
            "                                          text_clean  polarity  \n",
            "0  is upset that he can't update his facebook by ...         0  \n",
            "1  i dived many times for the ball. managed to sa...         0  \n",
            "2     my whole body feels itchy and like its on fire         0  \n",
            "3  no, it's not behaving at all. i'm mad. why am ...         0  \n",
            "4                                 not the whole crew         0  \n"
          ]
        }
      ]
    },
    {
      "cell_type": "code",
      "source": [
        "print(df_full.shape)"
      ],
      "metadata": {
        "colab": {
          "base_uri": "https://localhost:8080/"
        },
        "id": "9SdMmlLv9NjU",
        "outputId": "ccaa1697-a357-4734-a8d8-903c06cacd4d"
      },
      "execution_count": 22,
      "outputs": [
        {
          "output_type": "stream",
          "name": "stdout",
          "text": [
            "(1036908, 3)\n"
          ]
        }
      ]
    },
    {
      "cell_type": "markdown",
      "source": [
        "# Step 4 — Train/Test Split\n"
      ],
      "metadata": {
        "id": "9AidgoOS9gBx"
      }
    },
    {
      "cell_type": "code",
      "source": [
        "from sklearn.model_selection import train_test_split\n",
        "\n",
        "X = df_full[\"text_clean\"]\n",
        "y = df_full[\"polarity\"]\n",
        "\n",
        "X_train, X_test, y_train, y_test = train_test_split(\n",
        "    X, y, test_size=0.1, stratify=y, random_state=42\n",
        ")\n",
        "\n",
        "# Check shapes and label distribution\n",
        "print(\"Training set shape:\", X_train.shape)\n",
        "print(\"Test set shape:\", X_test.shape)\n",
        "\n",
        "print(\"\\nTraining label distribution:\\n\", y_train.value_counts())\n",
        "print(\"\\nTest label distribution:\\n\", y_test.value_counts())"
      ],
      "metadata": {
        "colab": {
          "base_uri": "https://localhost:8080/"
        },
        "id": "W9-ZJhvS9dO_",
        "outputId": "a8df4a4e-1c9e-4e6e-d31c-268cb1b215e6"
      },
      "execution_count": 23,
      "outputs": [
        {
          "output_type": "stream",
          "name": "stdout",
          "text": [
            "Training set shape: (933217,)\n",
            "Test set shape: (103691,)\n",
            "\n",
            "Training label distribution:\n",
            " polarity\n",
            "0    711163\n",
            "4    222054\n",
            "Name: count, dtype: int64\n",
            "\n",
            "Test label distribution:\n",
            " polarity\n",
            "0    79018\n",
            "4    24673\n",
            "Name: count, dtype: int64\n"
          ]
        }
      ]
    },
    {
      "cell_type": "markdown",
      "source": [
        "# Step 5 — TF-IDF + Logistic Regression Pipeline\n"
      ],
      "metadata": {
        "id": "E9QAtOJd9_Gj"
      }
    },
    {
      "cell_type": "code",
      "source": [
        "from sklearn.feature_extraction.text import TfidfVectorizer\n",
        "from sklearn.linear_model import LogisticRegression\n",
        "from sklearn.pipeline import Pipeline\n",
        "\n",
        "pipeline_full = Pipeline([\n",
        "    ('tfidf', TfidfVectorizer(\n",
        "        max_features=150_000,\n",
        "        ngram_range=(1,1),\n",
        "        min_df=5,\n",
        "        max_df=0.95,\n",
        "        sublinear_tf=True,\n",
        "        strip_accents='unicode'\n",
        "    )),\n",
        "    ('clf', LogisticRegression(\n",
        "        solver='saga',\n",
        "        max_iter=1000,\n",
        "        class_weight='balanced',\n",
        "        n_jobs=-1\n",
        "    ))\n",
        "])\n",
        "\n",
        "print(\"Training on full dataset, please wait...\")\n",
        "pipeline_full.fit(X_train, y_train)\n",
        "print(\"Full dataset training complete ✅\")"
      ],
      "metadata": {
        "colab": {
          "base_uri": "https://localhost:8080/"
        },
        "id": "Zt9tqQF-9_pl",
        "outputId": "a6c5fd84-e867-4cf0-81e0-76e2226be7ea"
      },
      "execution_count": 24,
      "outputs": [
        {
          "output_type": "stream",
          "name": "stdout",
          "text": [
            "Training on full dataset, please wait...\n",
            "Full dataset training complete ✅\n"
          ]
        }
      ]
    },
    {
      "cell_type": "markdown",
      "source": [
        "# Step 6 — Evaluation\n"
      ],
      "metadata": {
        "id": "yrD0tpCS-V-4"
      }
    },
    {
      "cell_type": "code",
      "source": [
        "from sklearn.metrics import accuracy_score, classification_report, confusion_matrix\n",
        "import matplotlib.pyplot as plt\n",
        "import seaborn as sns\n",
        "\n",
        "# Predictions\n",
        "y_pred = pipeline_full.predict(X_test)\n",
        "\n",
        "# Accuracy\n",
        "acc = accuracy_score(y_test, y_pred)\n",
        "print(f\"Test Accuracy: {acc:.4f}\\n\")\n",
        "\n",
        "# Classification report\n",
        "id2label = {0: 'negative', 4: 'positive'}\n",
        "print(\"Classification Report:\")\n",
        "print(classification_report(y_test, y_pred, target_names=[id2label[0], id2label[4]]))\n",
        "\n",
        "# Confusion matrix plot\n",
        "cm = confusion_matrix(y_test, y_pred)\n",
        "plt.figure(figsize=(5,4))\n",
        "sns.heatmap(cm, annot=True, fmt='d', cmap='Blues',\n",
        "            xticklabels=[id2label[0], id2label[4]],\n",
        "            yticklabels=[id2label[0], id2label[4]])\n",
        "plt.xlabel(\"Predicted\")\n",
        "plt.ylabel(\"Actual\")\n",
        "plt.title(\"Confusion Matrix\")\n",
        "plt.show()"
      ],
      "metadata": {
        "colab": {
          "base_uri": "https://localhost:8080/",
          "height": 618
        },
        "id": "mgZePV3G-Vst",
        "outputId": "729d59e3-debb-41c1-b2e8-35313ee5b387"
      },
      "execution_count": 25,
      "outputs": [
        {
          "output_type": "stream",
          "name": "stdout",
          "text": [
            "Test Accuracy: 0.7949\n",
            "\n",
            "Classification Report:\n",
            "              precision    recall  f1-score   support\n",
            "\n",
            "    negative       0.93      0.79      0.85     79018\n",
            "    positive       0.55      0.80      0.65     24673\n",
            "\n",
            "    accuracy                           0.79    103691\n",
            "   macro avg       0.74      0.80      0.75    103691\n",
            "weighted avg       0.84      0.79      0.81    103691\n",
            "\n"
          ]
        },
        {
          "output_type": "display_data",
          "data": {
            "text/plain": [
              "<Figure size 500x400 with 2 Axes>"
            ],
            "image/png": "[encoded data removed]"
          },
          "metadata": {}
        }
      ]
    },
    {
      "cell_type": "markdown",
      "source": [
        "# Step 7 — Save Model & Label Mapping for FastAPI"
      ],
      "metadata": {
        "id": "GV_ikzE7-pid"
      }
    },
    {
      "cell_type": "code",
      "source": [
        "import joblib\n",
        "import json\n",
        "\n",
        "# Save full dataset pipeline\n",
        "joblib.dump(pipeline_full, \"sentiment_model_full.pkl\")\n",
        "print(\"Full dataset model saved as sentiment_model_full.pkl ✅\")\n",
        "\n",
        "# Save label mapping\n",
        "id2label = {0: 'negative', 4: 'positive'}\n",
        "with open(\"id2label_full.json\", \"w\") as f:\n",
        "    json.dump(id2label, f)\n",
        "print(\"Label mapping saved as id2label_full.json ✅\")\n"
      ],
      "metadata": {
        "colab": {
          "base_uri": "https://localhost:8080/"
        },
        "id": "xvvRVu6j-pXd",
        "outputId": "36982b8c-b773-494f-8a1d-c17a9639e086"
      },
      "execution_count": 26,
      "outputs": [
        {
          "output_type": "stream",
          "name": "stdout",
          "text": [
            "Full dataset model saved as sentiment_model_full.pkl ✅\n",
            "Label mapping saved as id2label_full.json ✅\n"
          ]
        }
      ]
    },
    {
      "cell_type": "markdown",
      "source": [
        "# Testing"
      ],
      "metadata": {
        "id": "ouDVoBC2-wcR"
      }
    },
    {
      "cell_type": "code",
      "source": [
        "sample_texts = [\n",
        "    \"I love this product! It works amazingly well.\",\n",
        "    \"This is the worst experience ever.\"\n",
        "]\n",
        "\n",
        "probs = pipeline_full.predict_proba(sample_texts)\n",
        "preds = pipeline_full.predict(sample_texts)\n",
        "\n",
        "for text, pred, prob in zip(sample_texts, preds, probs):\n",
        "    label_name = id2label[pred]\n",
        "    confidence = max(prob)\n",
        "    print(f\"Text: {text}\\nPrediction: {label_name} (Confidence: {confidence:.2f})\\n\")\n"
      ],
      "metadata": {
        "colab": {
          "base_uri": "https://localhost:8080/"
        },
        "id": "7KoezzqE-x1F",
        "outputId": "4105937b-9e3f-495d-eea1-eee08ff4a698"
      },
      "execution_count": 27,
      "outputs": [
        {
          "output_type": "stream",
          "name": "stdout",
          "text": [
            "Text: I love this product! It works amazingly well.\n",
            "Prediction: positive (Confidence: 0.96)\n",
            "\n",
            "Text: This is the worst experience ever.\n",
            "Prediction: negative (Confidence: 0.89)\n",
            "\n"
          ]
        }
      ]
    },
    {
      "cell_type": "code",
      "source": [
        "sample_texts = [\n",
        "    \"This is a good product.\",\n",
        "    \"Seems perfect.\"\n",
        "]\n",
        "\n",
        "probs = pipeline_full.predict_proba(sample_texts)\n",
        "preds = pipeline_full.predict(sample_texts)\n",
        "\n",
        "for text, pred, prob in zip(sample_texts, preds, probs):\n",
        "    label_name = id2label[pred]\n",
        "    confidence = max(prob)\n",
        "    print(f\"Text: {text}\\nPrediction: {label_name} (Confidence: {confidence:.2f})\\n\")\n"
      ],
      "metadata": {
        "colab": {
          "base_uri": "https://localhost:8080/"
        },
        "id": "CcQXpj41-0oS",
        "outputId": "6266edbc-ff11-4030-fcf3-9c10a76f2cda"
      },
      "execution_count": 28,
      "outputs": [
        {
          "output_type": "stream",
          "name": "stdout",
          "text": [
            "Text: This is a good product.\n",
            "Prediction: positive (Confidence: 0.90)\n",
            "\n",
            "Text: Seems perfect.\n",
            "Prediction: positive (Confidence: 0.81)\n",
            "\n"
          ]
        }
      ]
    },
    {
      "cell_type": "code",
      "source": [
        "sample_texts = [\n",
        "    \"Quality is not what I expected. disappointed.\",\n",
        "    \"Thanks. best product ever.\"\n",
        "]\n",
        "\n",
        "probs = pipeline_full.predict_proba(sample_texts)\n",
        "preds = pipeline_full.predict(sample_texts)\n",
        "\n",
        "for text, pred, prob in zip(sample_texts, preds, probs):\n",
        "    label_name = id2label[pred]\n",
        "    confidence = max(prob)\n",
        "    print(f\"Text: {text}\\nPrediction: {label_name} (Confidence: {confidence:.2f})\\n\")\n"
      ],
      "metadata": {
        "colab": {
          "base_uri": "https://localhost:8080/"
        },
        "id": "hy2FmReP_AxC",
        "outputId": "fc7035ba-cf93-4f37-ca9c-e0a56d8ac59a"
      },
      "execution_count": 29,
      "outputs": [
        {
          "output_type": "stream",
          "name": "stdout",
          "text": [
            "Text: Quality is not what I expected. disappointed.\n",
            "Prediction: negative (Confidence: 0.98)\n",
            "\n",
            "Text: Thanks. best product ever.\n",
            "Prediction: positive (Confidence: 0.98)\n",
            "\n"
          ]
        }
      ]
    },
    {
      "cell_type": "markdown",
      "source": [
        "# Downloading Models"
      ],
      "metadata": {
        "id": "3BID2Vnl_eGj"
      }
    },
    {
      "cell_type": "code",
      "source": [
        "from google.colab import files\n",
        "\n",
        "files.download(\"sentiment_model_full.pkl\")\n",
        "files.download(\"id2label_full.json\")\n"
      ],
      "metadata": {
        "id": "2u2vuXuh_gR8",
        "outputId": "a39052d0-0e88-4a96-d63c-8b788da9b270",
        "colab": {
          "base_uri": "https://localhost:8080/",
          "height": 17
        }
      },
      "execution_count": 30,
      "outputs": [
        {
          "output_type": "display_data",
          "data": {
            "text/plain": [
              "<IPython.core.display.Javascript object>"
            ],
            "application/javascript": [
              "\n",
              "    async function download(id, filename, size) {\n",
              "      if (!google.colab.kernel.accessAllowed) {\n",
              "        return;\n",
              "      }\n",
              "      const div = document.createElement('div');\n",
              "      const label = document.createElement('label');\n",
              "      label.textContent = `Downloading \"${filename}\": `;\n",
              "      div.appendChild(label);\n",
              "      const progress = document.createElement('progress');\n",
              "      progress.max = size;\n",
              "      div.appendChild(progress);\n",
              "      document.body.appendChild(div);\n",
              "\n",
              "      const buffers = [];\n",
              "      let downloaded = 0;\n",
              "\n",
              "      const channel = await google.colab.kernel.comms.open(id);\n",
              "      // Send a message to notify the kernel that we're ready.\n",
              "      channel.send({})\n",
              "\n",
              "      for await (const message of channel.messages) {\n",
              "        // Send a message to notify the kernel that we're ready.\n",
              "        channel.send({})\n",
              "        if (message.buffers) {\n",
              "          for (const buffer of message.buffers) {\n",
              "            buffers.push(buffer);\n",
              "            downloaded += buffer.byteLength;\n",
              "            progress.value = downloaded;\n",
              "          }\n",
              "        }\n",
              "      }\n",
              "      const blob = new Blob(buffers, {type: 'application/binary'});\n",
              "      const a = document.createElement('a');\n",
              "      a.href = window.URL.createObjectURL(blob);\n",
              "      a.download = filename;\n",
              "      div.appendChild(a);\n",
              "      a.click();\n",
              "      div.remove();\n",
              "    }\n",
              "  "
            ]
          },
          "metadata": {}
        },
        {
          "output_type": "display_data",
          "data": {
            "text/plain": [
              "<IPython.core.display.Javascript object>"
            ],
            "application/javascript": [
              "download(\"download_7cf9f024-fe75-4e14-9952-4c7fdf2deedd\", \"sentiment_model_full.pkl\", 1724900)"
            ]
          },
          "metadata": {}
        },
        {
          "output_type": "display_data",
          "data": {
            "text/plain": [
              "<IPython.core.display.Javascript object>"
            ],
            "application/javascript": [
              "\n",
              "    async function download(id, filename, size) {\n",
              "      if (!google.colab.kernel.accessAllowed) {\n",
              "        return;\n",
              "      }\n",
              "      const div = document.createElement('div');\n",
              "      const label = document.createElement('label');\n",
              "      label.textContent = `Downloading \"${filename}\": `;\n",
              "      div.appendChild(label);\n",
              "      const progress = document.createElement('progress');\n",
              "      progress.max = size;\n",
              "      div.appendChild(progress);\n",
              "      document.body.appendChild(div);\n",
              "\n",
              "      const buffers = [];\n",
              "      let downloaded = 0;\n",
              "\n",
              "      const channel = await google.colab.kernel.comms.open(id);\n",
              "      // Send a message to notify the kernel that we're ready.\n",
              "      channel.send({})\n",
              "\n",
              "      for await (const message of channel.messages) {\n",
              "        // Send a message to notify the kernel that we're ready.\n",
              "        channel.send({})\n",
              "        if (message.buffers) {\n",
              "          for (const buffer of message.buffers) {\n",
              "            buffers.push(buffer);\n",
              "            downloaded += buffer.byteLength;\n",
              "            progress.value = downloaded;\n",
              "          }\n",
              "        }\n",
              "      }\n",
              "      const blob = new Blob(buffers, {type: 'application/binary'});\n",
              "      const a = document.createElement('a');\n",
              "      a.href = window.URL.createObjectURL(blob);\n",
              "      a.download = filename;\n",
              "      div.appendChild(a);\n",
              "      a.click();\n",
              "      div.remove();\n",
              "    }\n",
              "  "
            ]
          },
          "metadata": {}
        },
        {
          "output_type": "display_data",
          "data": {
            "text/plain": [
              "<IPython.core.display.Javascript object>"
            ],
            "application/javascript": [
              "download(\"download_9eba4256-0e84-4135-9d29-ce931b02432f\", \"id2label_full.json\", 34)"
            ]
          },
          "metadata": {}
        }
      ]
    }
  ]
}